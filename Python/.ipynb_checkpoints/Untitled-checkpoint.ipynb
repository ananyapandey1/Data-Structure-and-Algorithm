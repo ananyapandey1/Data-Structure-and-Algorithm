{
 "cells": [
  {
   "cell_type": "code",
   "execution_count": 4,
   "id": "31f9c12f",
   "metadata": {},
   "outputs": [
    {
     "name": "stdout",
     "output_type": "stream",
     "text": [
      "Enter item 1 100\n",
      "Enter item 2 200\n",
      "Enter item 3 400\n",
      "Total bill  700\n",
      "35.0\n",
      "665.0\n"
     ]
    }
   ],
   "source": [
    "x = int(input(\"Enter item 1 \"))\n",
    "y = int(input(\"Enter item 2 \"))\n",
    "z= int(input(\"Enter item 3 \")) \n",
    "tBill = x+y+z\n",
    "print(\"Total bill \", tBill )\n",
    "dis=0\n",
    "if tBill>500:\n",
    "    dis = 5/100 * tBill\n",
    "print (dis)\n",
    "print(tBill - dis)"
   ]
  },
  {
   "cell_type": "code",
   "execution_count": 9,
   "id": "09ad4b91",
   "metadata": {},
   "outputs": [
    {
     "name": "stdout",
     "output_type": "stream",
     "text": [
      "Enter a number 2\n"
     ]
    }
   ],
   "source": [
    "n = int(input(\"Enter a number \"))\n",
    "if(n%3 == 0):\n",
    "    if(n%5 == 0):\n",
    "        print(\"divisible by both 3 and 5\")\n",
    "    else:\n",
    "        print(\"divisible by 3\")\n",
    "if(n%5 ==0):\n",
    "    print(\"divisible by 5\")\n",
    "        "
   ]
  },
  {
   "cell_type": "code",
   "execution_count": 23,
   "id": "2948197f",
   "metadata": {},
   "outputs": [
    {
     "name": "stdout",
     "output_type": "stream",
     "text": [
      "Enter x0\n",
      "Enter y-10\n",
      "Y-aixs\n"
     ]
    }
   ],
   "source": [
    "#Enter the co-ordinates of points in 2D co-ordinate system and display its location\n",
    "x= int(input(\"Enter x\"))\n",
    "y= int(input(\"Enter y\"))\n",
    "\n",
    "\n",
    "if  x >0 and y >0:\n",
    "    print (\"First\")\n",
    "elif x<0 and y<0:\n",
    "    print (\"Fourth\")\n",
    "elif(x<0 and y>0):\n",
    "    print(\"Second\")\n",
    "elif x>0 and y<0:\n",
    "    print (\"Third\")\n",
    "elif( x==0  and y ==0):\n",
    "    print(\"Origin\")\n",
    "elif x==0 and (y>0 or y<0):\n",
    "    print(\"Y-aixs\")\n",
    "elif y==0 and (x>0 or x<0):\n",
    "    print(\"X-axis\")"
   ]
  },
  {
   "cell_type": "code",
   "execution_count": 8,
   "id": "bc22417f",
   "metadata": {},
   "outputs": [
    {
     "name": "stdout",
     "output_type": "stream",
     "text": [
      "Enter the stringHello\n",
      "Total number of vowels: 2\n"
     ]
    }
   ],
   "source": [
    "##Enter the string and count vowels from it\n",
    "s = input(\"Enter the string\")\n",
    "count=0\n",
    "for c in s:\n",
    "    if c=='a' or c=='e' or c=='i'or c=='o'or c=='u' or c=='A' or c== 'E' or c=='I' or c=='O' or c=='U' :\n",
    "        count += 1\n",
    "print(\"Total number of vowels:\" , count)"
   ]
  },
  {
   "cell_type": "code",
   "execution_count": 10,
   "id": "4f7a8224",
   "metadata": {},
   "outputs": [
    {
     "name": "stdout",
     "output_type": "stream",
     "text": [
      "Enter Input:My   name    is   Harsh\n",
      "4\n"
     ]
    }
   ],
   "source": [
    "#Enter any string and count number of words in it\n",
    "print(len(input(\"Enter Input:\").split()))"
   ]
  },
  {
   "cell_type": "code",
   "execution_count": 13,
   "id": "41478513",
   "metadata": {},
   "outputs": [
    {
     "name": "stdout",
     "output_type": "stream",
     "text": [
      "Enter Input: My   Name is    Harsh\n",
      "4\n"
     ]
    }
   ],
   "source": [
    "#Enter any string and count number of words in it (without split)\n",
    "\n",
    "s= input(\"Enter Input: \")\n",
    "count = 1\n",
    "for  i in range(1, len(s)):\n",
    "    if(s[i-1] == ' ' and s[i]!= ' '):\n",
    "        count+=1\n",
    "print(count)"
   ]
  },
  {
   "cell_type": "code",
   "execution_count": 20,
   "id": "c3c6b032",
   "metadata": {},
   "outputs": [
    {
     "name": "stdout",
     "output_type": "stream",
     "text": [
      "Enter Input: harsh ahuj\n",
      "Harsh Ahuj\n"
     ]
    }
   ],
   "source": [
    "#Enter string and convert first and last char of word to upper and all other in lower\n",
    "s= input(\"Enter Input: \")\n",
    "s= s.title()\n",
    "print(s)\n"
   ]
  },
  {
   "cell_type": "code",
   "execution_count": 1,
   "id": "c2b30e4d",
   "metadata": {},
   "outputs": [
    {
     "name": "stdout",
     "output_type": "stream",
     "text": [
      "Enter Input: ghjghj\n",
      "GhjghJ\n"
     ]
    }
   ],
   "source": [
    "#Enter string and convert first and last char of word to upper and all other in lower without title\n",
    "s= input(\"Enter Input: \")\n",
    "for i in range(len(s)):\n",
    "    s = s[0].upper() + s[1:-1] + s[-1].upper()\n",
    "print(s)"
   ]
  },
  {
   "cell_type": "code",
   "execution_count": 23,
   "id": "b1b44615",
   "metadata": {},
   "outputs": [
    {
     "name": "stdout",
     "output_type": "stream",
     "text": [
      "Enter the stringAAA   BBBB cccccc\n",
      "3A 4B 6c \n"
     ]
    }
   ],
   "source": [
    "#count characters \n",
    "#input s = AAAA BBBBB\n",
    "#output 4A 5B\n",
    "s = input(\"Enter the string\")\n",
    "result=\"\"\n",
    "for elem in s.split():\n",
    "    result += str(len(elem))\n",
    "    result += elem[0]\n",
    "    result += \" \"\n",
    "    \n",
    "print(result)"
   ]
  },
  {
   "cell_type": "code",
   "execution_count": 29,
   "id": "6334a2bd",
   "metadata": {},
   "outputs": [
    {
     "name": "stdout",
     "output_type": "stream",
     "text": [
      "Enter the string: my name is harsh\n",
      "ym eman si hsrah \n"
     ]
    }
   ],
   "source": [
    "#problem statement\n",
    "## input = my name is harsh\n",
    "## outpyut = ym eman si hsrah\n",
    "\n",
    "s = input(\"Enter the string: \")\n",
    "result=\"\"\n",
    "for elem in s.split():\n",
    "    result += elem[::-1]\n",
    "    result += \" \"\n",
    "    \n",
    "print(result)\n"
   ]
  },
  {
   "cell_type": "code",
   "execution_count": 37,
   "id": "60de91a8",
   "metadata": {},
   "outputs": [
    {
     "name": "stdout",
     "output_type": "stream",
     "text": [
      "Enter the string: my name is harsh\n",
      "Result string is ym eman si hsrah \n"
     ]
    }
   ],
   "source": [
    "#problem statement\n",
    "## input = my name is harsh\n",
    "## outpyut = ym eman si hsrah\n",
    "## without split\n",
    "\n",
    "s = input(\"Enter the string: \")\n",
    "result=\"\"\n",
    "i=0\n",
    "for j in range(len(s)):\n",
    "    if s[j] == \" \":\n",
    "        result += s[i:j][::-1]\n",
    "        result +=\" \"\n",
    "        i=j+1\n",
    "    if j == len(s)-1:\n",
    "        result += s[i:j+1][::-1]\n",
    "        result +=\" \"\n",
    "        i=j+1\n",
    "    \n",
    "print(\"Result string is\", result)\n"
   ]
  },
  {
   "cell_type": "code",
   "execution_count": 42,
   "id": "5bcbe302",
   "metadata": {},
   "outputs": [
    {
     "name": "stdout",
     "output_type": "stream",
     "text": [
      "Enter the string: hello world\n",
      "Result string is oellh dorlw \n"
     ]
    }
   ],
   "source": [
    "#swap first and last ch of word in string\n",
    "\n",
    "s = input(\"Enter the string: \")\n",
    "result=\"\"\n",
    "i=0\n",
    "for j in range(len(s)):\n",
    "    if s[j] == \" \":\n",
    "        result += s[j-1] + s[i+1:j-1] +s[i]\n",
    "        result +=\" \"\n",
    "        i=j+1\n",
    "    if j == len(s)-1:\n",
    "        \n",
    "        result +=  s[j] + s[i+1:j] +s[i]\n",
    "        result +=\" \"\n",
    "        i=j+1\n",
    "    \n",
    "print(\"Result string is\", result)\n"
   ]
  },
  {
   "cell_type": "code",
   "execution_count": null,
   "id": "5996e969",
   "metadata": {},
   "outputs": [],
   "source": [
    "#write a program to sort the string according to its word length"
   ]
  },
  {
   "cell_type": "code",
   "execution_count": 11,
   "id": "dd3695f5",
   "metadata": {},
   "outputs": [
    {
     "name": "stdout",
     "output_type": "stream",
     "text": [
      "[2, 3, 4, 6, 7, 8, 9, 10, 11]\n"
     ]
    }
   ],
   "source": [
    "#write a program to find intersection of two list\n",
    "def intersection(lst1, lst2):\n",
    "    lst3 = [value for value in lst1 if value in lst2]\n",
    "    return lst3\n",
    " \n",
    "# Driver Code\n",
    "lst1 = [4, 9, 1, 17, 11, 26, 28, 54, 69]\n",
    "lst2 = [9, 9, 74, 21, 45, 11, 63, 28, 26]\n",
    "print(intersection(lst1, lst2))"
   ]
  }
 ],
 "metadata": {
  "kernelspec": {
   "display_name": "Python 3 (ipykernel)",
   "language": "python",
   "name": "python3"
  },
  "language_info": {
   "codemirror_mode": {
    "name": "ipython",
    "version": 3
   },
   "file_extension": ".py",
   "mimetype": "text/x-python",
   "name": "python",
   "nbconvert_exporter": "python",
   "pygments_lexer": "ipython3",
   "version": "3.9.12"
  }
 },
 "nbformat": 4,
 "nbformat_minor": 5
}
