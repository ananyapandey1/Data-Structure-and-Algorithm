{
 "cells": [
  {
   "cell_type": "code",
   "execution_count": 4,
   "id": "31f9c12f",
   "metadata": {},
   "outputs": [
    {
     "name": "stdout",
     "output_type": "stream",
     "text": [
      "Enter item 1 100\n",
      "Enter item 2 200\n",
      "Enter item 3 400\n",
      "Total bill  700\n",
      "35.0\n",
      "665.0\n"
     ]
    }
   ],
   "source": [
    "x = int(input(\"Enter item 1 \"))\n",
    "y = int(input(\"Enter item 2 \"))\n",
    "z= int(input(\"Enter item 3 \")) \n",
    "tBill = x+y+z\n",
    "print(\"Total bill \", tBill )\n",
    "dis=0\n",
    "if tBill>500:\n",
    "    dis = 5/100 * tBill\n",
    "print (dis)\n",
    "print(tBill - dis)"
   ]
  },
  {
   "cell_type": "code",
   "execution_count": 9,
   "id": "09ad4b91",
   "metadata": {},
   "outputs": [
    {
     "name": "stdout",
     "output_type": "stream",
     "text": [
      "Enter a number 2\n"
     ]
    }
   ],
   "source": [
    "n = int(input(\"Enter a number \"))\n",
    "if(n%3 == 0):\n",
    "    if(n%5 == 0):\n",
    "        print(\"divisible by both 3 and 5\")\n",
    "    else:\n",
    "        print(\"divisible by 3\")\n",
    "if(n%5 ==0):\n",
    "    print(\"divisible by 5\")\n",
    "        "
   ]
  },
  {
   "cell_type": "code",
   "execution_count": 23,
   "id": "2948197f",
   "metadata": {},
   "outputs": [
    {
     "name": "stdout",
     "output_type": "stream",
     "text": [
      "Enter x0\n",
      "Enter y-10\n",
      "Y-aixs\n"
     ]
    }
   ],
   "source": [
    "#Enter the co-ordinates of points in 2D co-ordinate system and display its location\n",
    "x= int(input(\"Enter x\"))\n",
    "y= int(input(\"Enter y\"))\n",
    "\n",
    "\n",
    "if  x >0 and y >0:\n",
    "    print (\"First\")\n",
    "elif x<0 and y<0:\n",
    "    print (\"Fourth\")\n",
    "elif(x<0 and y>0):\n",
    "    print(\"Second\")\n",
    "elif x>0 and y<0:\n",
    "    print (\"Third\")\n",
    "elif( x==0  and y ==0):\n",
    "    print(\"Origin\")\n",
    "elif x==0 and (y>0 or y<0):\n",
    "    print(\"Y-aixs\")\n",
    "elif y==0 and (x>0 or x<0):\n",
    "    print(\"X-axis\")"
   ]
  },
  {
   "cell_type": "code",
   "execution_count": 8,
   "id": "bc22417f",
   "metadata": {},
   "outputs": [
    {
     "name": "stdout",
     "output_type": "stream",
     "text": [
      "Enter the stringHello\n",
      "Total number of vowels: 2\n"
     ]
    }
   ],
   "source": [
    "##Enter the string and count vowels from it\n",
    "s = input(\"Enter the string\")\n",
    "count=0\n",
    "for c in s:\n",
    "    if c=='a' or c=='e' or c=='i'or c=='o'or c=='u' or c=='A' or c== 'E' or c=='I' or c=='O' or c=='U' :\n",
    "        count += 1\n",
    "print(\"Total number of vowels:\" , count)"
   ]
  },
  {
   "cell_type": "code",
   "execution_count": 10,
   "id": "4f7a8224",
   "metadata": {},
   "outputs": [
    {
     "name": "stdout",
     "output_type": "stream",
     "text": [
      "Enter Input:My   name    is   Harsh\n",
      "4\n"
     ]
    }
   ],
   "source": [
    "#Enter any string and count number of words in it\n",
    "print(len(input(\"Enter Input:\").split()))"
   ]
  },
  {
   "cell_type": "code",
   "execution_count": 13,
   "id": "41478513",
   "metadata": {},
   "outputs": [
    {
     "name": "stdout",
     "output_type": "stream",
     "text": [
      "Enter Input: My   Name is    Harsh\n",
      "4\n"
     ]
    }
   ],
   "source": [
    "#Enter any string and count number of words in it (without split)\n",
    "\n",
    "s= input(\"Enter Input: \")\n",
    "count = 1\n",
    "for  i in range(1, len(s)):\n",
    "    if(s[i-1] == ' ' and s[i]!= ' '):\n",
    "        count+=1\n",
    "print(count)"
   ]
  },
  {
   "cell_type": "code",
   "execution_count": 20,
   "id": "c3c6b032",
   "metadata": {},
   "outputs": [
    {
     "name": "stdout",
     "output_type": "stream",
     "text": [
      "Enter Input: harsh ahuj\n",
      "Harsh Ahuj\n"
     ]
    }
   ],
   "source": [
    "#Enter string and convert first and last char of word to upper and all other in lower\n",
    "s= input(\"Enter Input: \")\n",
    "s= s.title()\n",
    "print(s)\n"
   ]
  },
  {
   "cell_type": "code",
   "execution_count": 1,
   "id": "c2b30e4d",
   "metadata": {},
   "outputs": [
    {
     "name": "stdout",
     "output_type": "stream",
     "text": [
      "Enter Input: ghjghj\n",
      "GhjghJ\n"
     ]
    }
   ],
   "source": [
    "#Enter string and convert first and last char of word to upper and all other in lower without title\n",
    "s= input(\"Enter Input: \")\n",
    "for i in range(len(s)):\n",
    "    s = s[0].upper() + s[1:-1] + s[-1].upper()\n",
    "print(s)"
   ]
  },
  {
   "cell_type": "code",
   "execution_count": 23,
   "id": "b1b44615",
   "metadata": {},
   "outputs": [
    {
     "name": "stdout",
     "output_type": "stream",
     "text": [
      "Enter the stringAAA   BBBB cccccc\n",
      "3A 4B 6c \n"
     ]
    }
   ],
   "source": [
    "#count characters \n",
    "#input s = AAAA BBBBB\n",
    "#output 4A 5B\n",
    "s = input(\"Enter the string\")\n",
    "result=\"\"\n",
    "for elem in s.split():\n",
    "    result += str(len(elem))\n",
    "    result += elem[0]\n",
    "    result += \" \"\n",
    "    \n",
    "print(result)"
   ]
  },
  {
   "cell_type": "code",
   "execution_count": 29,
   "id": "6334a2bd",
   "metadata": {},
   "outputs": [
    {
     "name": "stdout",
     "output_type": "stream",
     "text": [
      "Enter the string: my name is harsh\n",
      "ym eman si hsrah \n"
     ]
    }
   ],
   "source": [
    "#problem statement\n",
    "## input = my name is harsh\n",
    "## outpyut = ym eman si hsrah\n",
    "\n",
    "s = input(\"Enter the string: \")\n",
    "result=\"\"\n",
    "for elem in s.split():\n",
    "    result += elem[::-1]\n",
    "    result += \" \"\n",
    "    \n",
    "print(result)\n"
   ]
  },
  {
   "cell_type": "code",
   "execution_count": 37,
   "id": "60de91a8",
   "metadata": {},
   "outputs": [
    {
     "name": "stdout",
     "output_type": "stream",
     "text": [
      "Enter the string: my name is harsh\n",
      "Result string is ym eman si hsrah \n"
     ]
    }
   ],
   "source": [
    "#problem statement\n",
    "## input = my name is harsh\n",
    "## outpyut = ym eman si hsrah\n",
    "## without split\n",
    "\n",
    "s = input(\"Enter the string: \")\n",
    "result=\"\"\n",
    "i=0\n",
    "for j in range(len(s)):\n",
    "    if s[j] == \" \":\n",
    "        result += s[i:j][::-1]\n",
    "        result +=\" \"\n",
    "        i=j+1\n",
    "    if j == len(s)-1:\n",
    "        result += s[i:j+1][::-1]\n",
    "        result +=\" \"\n",
    "        i=j+1\n",
    "    \n",
    "print(\"Result string is\", result)\n"
   ]
  },
  {
   "cell_type": "code",
   "execution_count": 42,
   "id": "5bcbe302",
   "metadata": {},
   "outputs": [
    {
     "name": "stdout",
     "output_type": "stream",
     "text": [
      "Enter the string: hello world\n",
      "Result string is oellh dorlw \n"
     ]
    }
   ],
   "source": [
    "#swap first and last ch of word in string\n",
    "\n",
    "s = input(\"Enter the string: \")\n",
    "result=\"\"\n",
    "i=0\n",
    "for j in range(len(s)):\n",
    "    if s[j] == \" \":\n",
    "        result += s[j-1] + s[i+1:j-1] +s[i]\n",
    "        result +=\" \"\n",
    "        i=j+1\n",
    "    if j == len(s)-1:\n",
    "        \n",
    "        result +=  s[j] + s[i+1:j] +s[i]\n",
    "        result +=\" \"\n",
    "        i=j+1\n",
    "    \n",
    "print(\"Result string is\", result)\n"
   ]
  },
  {
   "cell_type": "code",
   "execution_count": null,
   "id": "5996e969",
   "metadata": {},
   "outputs": [],
   "source": [
    "#write a program to sort the string according to its word length"
   ]
  },
  {
   "cell_type": "code",
   "execution_count": null,
   "id": "543d3fa1",
   "metadata": {},
   "outputs": [],
   "source": [
    "#merge to list\n",
    "list1 = [2,3,4,6,7,8]\n",
    "list2  = [3,4,4,8,9,10,11]\n",
    "set1 = set()\n",
    "set1.update(list2)\n",
    "set1.update(list1)\n",
    "list3= list(set1)\n",
    "print(list3)"
   ]
  },
  {
   "cell_type": "code",
   "execution_count": 14,
   "id": "9031c6cc",
   "metadata": {},
   "outputs": [
    {
     "name": "stdout",
     "output_type": "stream",
     "text": [
      "[3, 4, 8]\n"
     ]
    }
   ],
   "source": [
    "#write a program to find intersection of two list\n",
    "lst1 = [2,3,4,6,7,8]\n",
    "lst2 = [3,4,4,8,9,10,11]\n",
    "\n",
    "lst3 = [value for value in lst1 if value in lst2]\n",
    "print(lst3)"
   ]
  },
  {
   "cell_type": "markdown",
   "id": "421fa04b",
   "metadata": {},
   "source": [
    "Create A linked list and perform insert operation, before and after the occurence of number through keyboard (write a menu dirven code)"
   ]
  },
  {
   "cell_type": "code",
   "execution_count": 5,
   "id": "ec972d8f",
   "metadata": {},
   "outputs": [
    {
     "name": "stdout",
     "output_type": "stream",
     "text": [
      "\n",
      "Select an option\n",
      "1. Insert an element\n",
      "2. Insert before\n",
      "3. Insert After\n",
      "4. Print list\n",
      "5. Sort List\n",
      "6. Exit\n",
      "\n",
      "Enter an option1\n",
      "Enter the value: 2\n",
      "\n",
      "Select an option\n",
      "1. Insert an element\n",
      "2. Insert before\n",
      "3. Insert After\n",
      "4. Print list\n",
      "5. Sort List\n",
      "6. Exit\n",
      "\n",
      "Enter an option1\n",
      "Enter the value: 3\n",
      "\n",
      "Select an option\n",
      "1. Insert an element\n",
      "2. Insert before\n",
      "3. Insert After\n",
      "4. Print list\n",
      "5. Sort List\n",
      "6. Exit\n",
      "\n",
      "Enter an option4\n",
      "3 2 \n",
      "Select an option\n",
      "1. Insert an element\n",
      "2. Insert before\n",
      "3. Insert After\n",
      "4. Print list\n",
      "5. Sort List\n",
      "6. Exit\n",
      "\n",
      "Enter an option2\n",
      "Enter the value for before node: 2\n",
      "Enter the value: 4\n",
      "\n",
      "Select an option\n",
      "1. Insert an element\n",
      "2. Insert before\n",
      "3. Insert After\n",
      "4. Print list\n",
      "5. Sort List\n",
      "6. Exit\n",
      "\n",
      "Enter an option3\n",
      "Enter the value for after node: 4\n",
      "Enter the value: 6\n",
      "\n",
      "Select an option\n",
      "1. Insert an element\n",
      "2. Insert before\n",
      "3. Insert After\n",
      "4. Print list\n",
      "5. Sort List\n",
      "6. Exit\n",
      "\n",
      "Enter an option4\n",
      "3 4 6 2 \n",
      "Select an option\n",
      "1. Insert an element\n",
      "2. Insert before\n",
      "3. Insert After\n",
      "4. Print list\n",
      "5. Sort List\n",
      "6. Exit\n",
      "\n",
      "Enter an option5\n",
      "\n",
      "Select an option\n",
      "1. Insert an element\n",
      "2. Insert before\n",
      "3. Insert After\n",
      "4. Print list\n",
      "5. Sort List\n",
      "6. Exit\n",
      "\n",
      "Enter an option4\n",
      "2 3 4 6 \n",
      "Select an option\n",
      "1. Insert an element\n",
      "2. Insert before\n",
      "3. Insert After\n",
      "4. Print list\n",
      "5. Sort List\n",
      "6. Exit\n"
     ]
    },
    {
     "ename": "KeyboardInterrupt",
     "evalue": "Interrupted by user",
     "output_type": "error",
     "traceback": [
      "\u001b[1;31m---------------------------------------------------------------------------\u001b[0m",
      "\u001b[1;31mKeyboardInterrupt\u001b[0m                         Traceback (most recent call last)",
      "Input \u001b[1;32mIn [5]\u001b[0m, in \u001b[0;36m<cell line: 86>\u001b[1;34m()\u001b[0m\n\u001b[0;32m     94\u001b[0m \u001b[38;5;28mprint\u001b[39m(\u001b[38;5;124m\"\u001b[39m\u001b[38;5;124m5. Sort List\u001b[39m\u001b[38;5;124m\"\u001b[39m)\n\u001b[0;32m     95\u001b[0m \u001b[38;5;28mprint\u001b[39m(\u001b[38;5;124m\"\u001b[39m\u001b[38;5;124m6. Exit\u001b[39m\u001b[38;5;124m\"\u001b[39m)\n\u001b[1;32m---> 96\u001b[0m x \u001b[38;5;241m=\u001b[39m \u001b[38;5;28mint\u001b[39m(\u001b[38;5;28;43minput\u001b[39;49m\u001b[43m(\u001b[49m\u001b[38;5;124;43m\"\u001b[39;49m\u001b[38;5;130;43;01m\\n\u001b[39;49;00m\u001b[38;5;124;43mEnter an option\u001b[39;49m\u001b[38;5;124;43m\"\u001b[39;49m\u001b[43m)\u001b[49m)\n\u001b[0;32m     98\u001b[0m \u001b[38;5;28;01mif\u001b[39;00m x \u001b[38;5;241m==\u001b[39m \u001b[38;5;241m1\u001b[39m:\n\u001b[0;32m     99\u001b[0m     inp \u001b[38;5;241m=\u001b[39m \u001b[38;5;28mint\u001b[39m(\u001b[38;5;28minput\u001b[39m(\u001b[38;5;124m\"\u001b[39m\u001b[38;5;124mEnter the value: \u001b[39m\u001b[38;5;124m\"\u001b[39m))\n",
      "File \u001b[1;32m~\\anaconda3\\lib\\site-packages\\ipykernel\\kernelbase.py:1075\u001b[0m, in \u001b[0;36mKernel.raw_input\u001b[1;34m(self, prompt)\u001b[0m\n\u001b[0;32m   1071\u001b[0m \u001b[38;5;28;01mif\u001b[39;00m \u001b[38;5;129;01mnot\u001b[39;00m \u001b[38;5;28mself\u001b[39m\u001b[38;5;241m.\u001b[39m_allow_stdin:\n\u001b[0;32m   1072\u001b[0m     \u001b[38;5;28;01mraise\u001b[39;00m StdinNotImplementedError(\n\u001b[0;32m   1073\u001b[0m         \u001b[38;5;124m\"\u001b[39m\u001b[38;5;124mraw_input was called, but this frontend does not support input requests.\u001b[39m\u001b[38;5;124m\"\u001b[39m\n\u001b[0;32m   1074\u001b[0m     )\n\u001b[1;32m-> 1075\u001b[0m \u001b[38;5;28;01mreturn\u001b[39;00m \u001b[38;5;28;43mself\u001b[39;49m\u001b[38;5;241;43m.\u001b[39;49m\u001b[43m_input_request\u001b[49m\u001b[43m(\u001b[49m\n\u001b[0;32m   1076\u001b[0m \u001b[43m    \u001b[49m\u001b[38;5;28;43mstr\u001b[39;49m\u001b[43m(\u001b[49m\u001b[43mprompt\u001b[49m\u001b[43m)\u001b[49m\u001b[43m,\u001b[49m\n\u001b[0;32m   1077\u001b[0m \u001b[43m    \u001b[49m\u001b[38;5;28;43mself\u001b[39;49m\u001b[38;5;241;43m.\u001b[39;49m\u001b[43m_parent_ident\u001b[49m\u001b[43m[\u001b[49m\u001b[38;5;124;43m\"\u001b[39;49m\u001b[38;5;124;43mshell\u001b[39;49m\u001b[38;5;124;43m\"\u001b[39;49m\u001b[43m]\u001b[49m\u001b[43m,\u001b[49m\n\u001b[0;32m   1078\u001b[0m \u001b[43m    \u001b[49m\u001b[38;5;28;43mself\u001b[39;49m\u001b[38;5;241;43m.\u001b[39;49m\u001b[43mget_parent\u001b[49m\u001b[43m(\u001b[49m\u001b[38;5;124;43m\"\u001b[39;49m\u001b[38;5;124;43mshell\u001b[39;49m\u001b[38;5;124;43m\"\u001b[39;49m\u001b[43m)\u001b[49m\u001b[43m,\u001b[49m\n\u001b[0;32m   1079\u001b[0m \u001b[43m    \u001b[49m\u001b[43mpassword\u001b[49m\u001b[38;5;241;43m=\u001b[39;49m\u001b[38;5;28;43;01mFalse\u001b[39;49;00m\u001b[43m,\u001b[49m\n\u001b[0;32m   1080\u001b[0m \u001b[43m\u001b[49m\u001b[43m)\u001b[49m\n",
      "File \u001b[1;32m~\\anaconda3\\lib\\site-packages\\ipykernel\\kernelbase.py:1120\u001b[0m, in \u001b[0;36mKernel._input_request\u001b[1;34m(self, prompt, ident, parent, password)\u001b[0m\n\u001b[0;32m   1117\u001b[0m             \u001b[38;5;28;01mbreak\u001b[39;00m\n\u001b[0;32m   1118\u001b[0m \u001b[38;5;28;01mexcept\u001b[39;00m \u001b[38;5;167;01mKeyboardInterrupt\u001b[39;00m:\n\u001b[0;32m   1119\u001b[0m     \u001b[38;5;66;03m# re-raise KeyboardInterrupt, to truncate traceback\u001b[39;00m\n\u001b[1;32m-> 1120\u001b[0m     \u001b[38;5;28;01mraise\u001b[39;00m \u001b[38;5;167;01mKeyboardInterrupt\u001b[39;00m(\u001b[38;5;124m\"\u001b[39m\u001b[38;5;124mInterrupted by user\u001b[39m\u001b[38;5;124m\"\u001b[39m) \u001b[38;5;28;01mfrom\u001b[39;00m \u001b[38;5;28mNone\u001b[39m\n\u001b[0;32m   1121\u001b[0m \u001b[38;5;28;01mexcept\u001b[39;00m \u001b[38;5;167;01mException\u001b[39;00m:\n\u001b[0;32m   1122\u001b[0m     \u001b[38;5;28mself\u001b[39m\u001b[38;5;241m.\u001b[39mlog\u001b[38;5;241m.\u001b[39mwarning(\u001b[38;5;124m\"\u001b[39m\u001b[38;5;124mInvalid Message:\u001b[39m\u001b[38;5;124m\"\u001b[39m, exc_info\u001b[38;5;241m=\u001b[39m\u001b[38;5;28;01mTrue\u001b[39;00m)\n",
      "\u001b[1;31mKeyboardInterrupt\u001b[0m: Interrupted by user"
     ]
    }
   ],
   "source": [
    "class Node:\n",
    "     \n",
    "    # Constructor of Node\n",
    "    def __init__(self, val, link = None):\n",
    "        self.data = val\n",
    "        self.next = link\n",
    " \n",
    "# Create a head node\n",
    "head = None;\n",
    "  \n",
    "def printList(n):\n",
    " \n",
    "    while (n != None):\n",
    "        print(n.data, end = ' ')\n",
    "        n = n.next;\n",
    "  \n",
    "def addBefore(given_ptr, val):\n",
    "    global head\n",
    "     \n",
    "    if (head == given_ptr):\n",
    "  \n",
    "        n = Node(val);\n",
    "  \n",
    "        n.next = head;\n",
    "  \n",
    "        head = n;\n",
    "        return n;\n",
    "      \n",
    "    else:\n",
    "  \n",
    "        p = None\n",
    "        n = head;\n",
    "  \n",
    "        while(n != given_ptr):\n",
    "            p = n\n",
    "            n = n.next\n",
    "  \n",
    "        m = Node(val);\n",
    "        m.next = p.next;\n",
    "        p.next = m;\n",
    "  \n",
    "        return m;\n",
    "\n",
    "def insertAfter(prev_node, new_data):\n",
    "        if prev_node is None:\n",
    "            print(\"The given previous node must in LinkedList.\")\n",
    "            return\n",
    "  \n",
    "        new_node = Node(new_data)\n",
    "  \n",
    "        new_node.next = prev_node.next\n",
    "  \n",
    "        prev_node.next = new_node\n",
    "        \n",
    "def push(new_data):\n",
    "        \n",
    "        global head\n",
    "  \n",
    "        new_node = Node(new_data)\n",
    "  \n",
    "        new_node.next = head\n",
    "  \n",
    "        head = new_node\n",
    "def sortList(head):  \n",
    "        current = head;  \n",
    "        index = None;  \n",
    "          \n",
    "        if(head == None):  \n",
    "            return;  \n",
    "        else:  \n",
    "            while(current != None):    \n",
    "                index = current.next;  \n",
    "                  \n",
    "                while(index != None):    \n",
    "                    if(current.data > index.data):  \n",
    "                        temp = current.data;  \n",
    "                        current.data = index.data;  \n",
    "                        index.data = temp;  \n",
    "                    index = index.next;  \n",
    "                current = current.next;  \n",
    "    \n",
    "\n",
    "  \n",
    "     \n",
    "# Driver Code\n",
    "if __name__=='__main__':\n",
    "     \n",
    "    while True:\n",
    "        print(\"\\nSelect an option\")\n",
    "        print(\"1. Insert an element\")\n",
    "        print(\"2. Insert before\")\n",
    "        print(\"3. Insert After\")\n",
    "        print(\"4. Print list\")\n",
    "        print(\"5. Sort List\")\n",
    "        print(\"6. Exit\")\n",
    "        x = int(input(\"\\nEnter an option\"))\n",
    "        \n",
    "        if x == 1:\n",
    "            inp = int(input(\"Enter the value: \"))\n",
    "            if(head == None):\n",
    "                head = Node(inp)\n",
    "            else:\n",
    "                push(inp)\n",
    "        elif x == 2:\n",
    "            y = int(input(\"Enter the value for before node: \"))\n",
    "            inp = int(input(\"Enter the value: \"))\n",
    "            temp = head\n",
    "            while temp is not None:\n",
    "                if(temp.data == y):\n",
    "                    addBefore(temp, inp)\n",
    "                temp = temp.next\n",
    "        elif x== 3:\n",
    "            y = int(input(\"Enter the value for after node: \"))\n",
    "            inp = int(input(\"Enter the value: \"))\n",
    "            temp = head\n",
    "            while temp is not None:\n",
    "                if(temp.data == y):\n",
    "                    insertAfter(temp, inp)\n",
    "                temp = temp.next\n",
    "        elif x==4:\n",
    "            printList(head)\n",
    "        elif x==5:\n",
    "            sortList(head)\n",
    "        elif x==6:\n",
    "            break\n",
    "        else:\n",
    "            print(\"Enter correct option\")\n",
    "            \n",
    "  \n",
    " "
   ]
  },
  {
   "cell_type": "code",
   "execution_count": 3,
   "id": "8f828e39",
   "metadata": {},
   "outputs": [
    {
     "name": "stdout",
     "output_type": "stream",
     "text": [
      "1 ,\n",
      "2 ,\n",
      "3 ,\n",
      "4 ,\n",
      "8 ,\n",
      "9 ,\n"
     ]
    }
   ],
   "source": [
    "#Quick Sort\n",
    "def partition(arr,start,end):\n",
    "    pivot = arr[start]\n",
    "    count = 0\n",
    "    for i in range(start+1, end+1, 1):\n",
    "        if (arr[i] <= pivot):\n",
    "            count+=1\n",
    "    pivotIndex = start + count\n",
    "    arr[pivotIndex], arr[start] = arr[start], arr[pivotIndex]\n",
    "    i = start\n",
    "    j = end\n",
    "    while i < pivotIndex and j > pivotIndex:\n",
    "        while arr[i] <= pivot:\n",
    "            i+=1\n",
    "        while arr[j] > pivot:\n",
    "            j-=1\n",
    "        if i < pivotIndex and j > pivotIndex:\n",
    "            arr[i], arr[j] = arr[j], arr[i]\n",
    "            i+=1\n",
    "            j-=1\n",
    "    return pivotIndex\n",
    "\n",
    "\n",
    "def quickSort(arr,start,end):\n",
    "    \n",
    "    if (start >= end):\n",
    "        return;\n",
    "    p = partition(arr, start, end)\n",
    "    quickSort(arr, start, p - 1)\n",
    "    quickSort(arr, p + 1, end)\n",
    "\n",
    "\n",
    "arr = [ 9, 3, 4, 2, 1, 8 ]\n",
    "n = 6\n",
    "quickSort(arr, 0, n - 1)\n",
    "for val in arr:\n",
    "    print(val,\",\")\n"
   ]
  }
 ],
 "metadata": {
  "kernelspec": {
   "display_name": "Python 3 (ipykernel)",
   "language": "python",
   "name": "python3"
  },
  "language_info": {
   "codemirror_mode": {
    "name": "ipython",
    "version": 3
   },
   "file_extension": ".py",
   "mimetype": "text/x-python",
   "name": "python",
   "nbconvert_exporter": "python",
   "pygments_lexer": "ipython3",
   "version": "3.9.12"
  }
 },
 "nbformat": 4,
 "nbformat_minor": 5
}
